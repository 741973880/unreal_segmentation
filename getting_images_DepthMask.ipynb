{
 "cells": [
  {
   "cell_type": "markdown",
   "metadata": {},
   "source": [
    "# Getting RGB, segmentation and depth data with depth filter\n",
    "\n",
    "\n"
   ]
  },
  {
   "cell_type": "code",
   "execution_count": 1,
   "metadata": {},
   "outputs": [
    {
     "name": "stderr",
     "output_type": "stream",
     "text": [
      "INFO:__init__:192:Got connection confirm: b'connected to orchard'\n"
     ]
    },
    {
     "data": {
      "text/plain": [
       "True"
      ]
     },
     "execution_count": 1,
     "metadata": {},
     "output_type": "execute_result"
    }
   ],
   "source": [
    "import numpy as np\n",
    "import matplotlib.pyplot as plt\n",
    "import unrealcv\n",
    "import cv2\n",
    "import sys\n",
    "sys.path.append(\"..\") # to add path above current path\n",
    "\n",
    "#importing functions from unreal_tools folder\n",
    "import unreal_tools.UE4_camera_traj as trajectory\n",
    "import unreal_tools.UE4_get_images as images\n",
    "import unreal_tools.UE4_semantic_segmentation as segmentation\n",
    "\n",
    "#connecting to UE4\n",
    "client = unrealcv.Client(('127.0.0.1', 9000))\n",
    "client.connect()\n",
    "# client.disconnect()"
   ]
  },
  {
   "cell_type": "code",
   "execution_count": 2,
   "metadata": {},
   "outputs": [
    {
     "name": "stdout",
     "output_type": "stream",
     "text": [
      "How many frames do you want?50\n"
     ]
    }
   ],
   "source": [
    "#set camera trajectory\n",
    "trajectory.set_camera_traj('camera_traj.csv',client)"
   ]
  },
  {
   "cell_type": "markdown",
   "metadata": {},
   "source": [
    "## Getting original RGB images\n",
    "<img src=\"tutorial_img/orig_wDepth_34.png\" height=\"200\" width=\"480\" align='left'>"
   ]
  },
  {
   "cell_type": "code",
   "execution_count": 3,
   "metadata": {
    "scrolled": true
   },
   "outputs": [],
   "source": [
    "# getting RGB images\n",
    "images.get_RGB_images_depth_mask('original_depth_mask', client,\"orig_wDepth\", 0, 25)"
   ]
  },
  {
   "cell_type": "code",
   "execution_count": 4,
   "metadata": {},
   "outputs": [],
   "source": [
    "#segmentation\n",
    "segmentation.set_colors(\"colormap.csv\", client) # where UE4_colormap.csv is the name of your colormap file"
   ]
  },
  {
   "cell_type": "markdown",
   "metadata": {},
   "source": [
    "## Getting original RGB images\n",
    "<img src=\"tutorial_img/seg_wDepth_34.png\" height=\"200\" width=\"480\" align='left'>"
   ]
  },
  {
   "cell_type": "code",
   "execution_count": 5,
   "metadata": {},
   "outputs": [],
   "source": [
    "#getting segmented images\n",
    "images.get_segmented_images_depth_mask('segmented_data_mask', client,\"seg_wDepth\", 0, 25)"
   ]
  },
  {
   "cell_type": "code",
   "execution_count": 6,
   "metadata": {},
   "outputs": [],
   "source": [
    "#getting depth images\n",
    "images.get_depth(client,\"depth\",0)"
   ]
  },
  {
   "cell_type": "code",
   "execution_count": 5,
   "metadata": {},
   "outputs": [
    {
     "name": "stdout",
     "output_type": "stream",
     "text": [
      "True\n"
     ]
    }
   ],
   "source": [
    "print(client.isconnected())"
   ]
  },
  {
   "cell_type": "code",
   "execution_count": 7,
   "metadata": {},
   "outputs": [],
   "source": [
    "client.disconnect()"
   ]
  },
  {
   "cell_type": "code",
   "execution_count": null,
   "metadata": {},
   "outputs": [],
   "source": []
  }
 ],
 "metadata": {
  "kernelspec": {
   "display_name": "Python 3",
   "language": "python",
   "name": "python3"
  },
  "language_info": {
   "codemirror_mode": {
    "name": "ipython",
    "version": 3
   },
   "file_extension": ".py",
   "mimetype": "text/x-python",
   "name": "python",
   "nbconvert_exporter": "python",
   "pygments_lexer": "ipython3",
   "version": "3.5.6"
  }
 },
 "nbformat": 4,
 "nbformat_minor": 2
}
